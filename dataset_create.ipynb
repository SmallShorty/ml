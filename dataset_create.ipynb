{
 "cells": [
  {
   "cell_type": "code",
   "execution_count": 1,
   "id": "1477cca6-4c4c-4bcc-9ff3-149216c4b681",
   "metadata": {},
   "outputs": [],
   "source": [
    "import random\n",
    "import json\n",
    "from transformers import BertTokenizer, BertForMaskedLM\n",
    "from datasets import Dataset\n",
    "import spacy\n",
    "import os\n",
    "import glob\n",
    "import json\n",
    "import re"
   ]
  },
  {
   "cell_type": "code",
   "execution_count": 2,
   "id": "69ce4450-9dea-4327-93c0-6a42ffcfb34f",
   "metadata": {},
   "outputs": [],
   "source": [
    "model_name = \"DeepPavlov/rubert-base-cased\"\n",
    "tokenizer = BertTokenizer.from_pretrained(model_name)\n",
    "nlp = spacy.load(\"ru_core_news_lg\")"
   ]
  },
  {
   "cell_type": "code",
   "execution_count": 3,
   "id": "5f64d9a7-1d75-4368-8e49-2e0807e58cb9",
   "metadata": {},
   "outputs": [],
   "source": [
    "def mask_artistic_modifier(sentence: str):\n",
    "    \"\"\"\n",
    "    Ищет первое ADJ→NOUN или ADV→VERB, подставляет [MASK],\n",
    "    оборачивает сущность в [TGT]…[/TGT], возвращает dict с полями:\n",
    "      - text: строка для токенизации (с [MASK] и [TGT] маркерами)\n",
    "      - target: исходный эпитет/наречие\n",
    "    \"\"\"\n",
    "    doc = nlp(sentence)\n",
    "    tokens = [tok.text for tok in doc]\n",
    "    \n",
    "    for i, tok in enumerate(doc):\n",
    "        if tok.pos_ == \"NOUN\" and i > 0 and doc[i-1].pos_ == \"ADJ\":\n",
    "            target = doc[i-1].text\n",
    "            tokens[i-1] = \"[MASK]\"\n",
    "            tokens[i]   = \"[TGT] \" + tokens[i] + \" [/TGT]\"\n",
    "            masked = \" \".join(tokens)\n",
    "            masked = re.sub(r'\\s+([,.:;!?])', r'\\1', masked)\n",
    "            return {\"text\": masked, \"target\": target}\n",
    "        if tok.pos_ == \"VERB\" and i > 0 and doc[i-1].pos_ == \"ADV\":\n",
    "            target = doc[i-1].text\n",
    "            tokens[i-1] = \"[MASK]\"\n",
    "            tokens[i]   = \"[TGT] \" + tokens[i] + \" [/TGT]\"\n",
    "            masked = \" \".join(tokens)\n",
    "            masked = re.sub(r'\\s+([,.:;!?])', r'\\1', masked)\n",
    "            return {\"text\": masked, \"target\": target}\n",
    "    \n",
    "    return None"
   ]
  },
  {
   "cell_type": "code",
   "execution_count": 4,
   "id": "92a6ef4d-5215-40a7-9efa-6d7a4924e51b",
   "metadata": {},
   "outputs": [
    {
     "name": "stdout",
     "output_type": "stream",
     "text": [
      "Вывод:  Но не столько [MASK] [TGT] палач [/TGT], сколько неестественное освещение во сне...\n",
      "Цель: страшен\n",
      "---\n",
      "Вывод:  От постели к окну протягивается широкая [MASK] [TGT] дорога [/TGT]...\n",
      "Цель: лунная\n",
      "---\n",
      "Вывод:  Тогда в потоке складывается [MASK] [TGT] красоты [/TGT] женщина...\n",
      "Цель: непомерной\n",
      "---\n"
     ]
    }
   ],
   "source": [
    "corpus = [\n",
    "    \"Но не столько страшен палач, сколько неестественное освещение во сне...\",\n",
    "    \"От постели к окну протягивается широкая лунная дорога...\",\n",
    "    \"Тогда в потоке складывается непомерной красоты женщина...\"\n",
    "]\n",
    "\n",
    "for sent in corpus:\n",
    "    result = mask_artistic_modifier(sent)\n",
    "    if result:\n",
    "        # теперь result — это словарь: {\"text\": ..., \"target\": ...}\n",
    "        print(f\"Вывод:  {result['text']}\")\n",
    "        print(f\"Цель: {result['target']}\")\n",
    "    else:\n",
    "        print(f\"Пропуск: {sent}\")\n",
    "    print(\"---\")"
   ]
  },
  {
   "cell_type": "code",
   "execution_count": 5,
   "id": "9e8a8253-d355-4924-93c7-467c04830651",
   "metadata": {},
   "outputs": [
    {
     "name": "stdout",
     "output_type": "stream",
     "text": [
      "Начала обработки\n",
      "Файды: 108\n",
      "Строки: 190477\n",
      "Обработаны: 80198\n",
      "Ошибки: 0\n"
     ]
    }
   ],
   "source": [
    "import os, glob, json, re\n",
    "\n",
    "input_dir = \"data/filtered\"\n",
    "output_jsonl = \"data/processed/data.jsonl\"\n",
    "os.makedirs(os.path.dirname(output_jsonl), exist_ok=True)\n",
    "\n",
    "total_files = 0\n",
    "processed_files = 0\n",
    "total_lines = 0\n",
    "processed_lines = 0\n",
    "error_lines = 0\n",
    "\n",
    "file_list = glob.glob(f\"{input_dir}/*.txt\")\n",
    "total_files = len(file_list)\n",
    "\n",
    "print(\"Начала обработки\")\n",
    "\n",
    "with open(output_jsonl, \"w\", encoding=\"utf-8\") as fout:\n",
    "    for filepath in file_list:\n",
    "        processed_files += 1\n",
    "        with open(filepath, \"r\", encoding=\"utf-8\") as fin:\n",
    "            lines = fin.readlines()\n",
    "            total_lines += len(lines)\n",
    "            \n",
    "            for line in lines:\n",
    "                line = line.strip()\n",
    "                if not line:\n",
    "                    continue\n",
    "                try:\n",
    "                    entry = mask_artistic_modifier(line)\n",
    "                    if entry:\n",
    "                        fout.write(json.dumps(entry, ensure_ascii=False) + \"\\n\")\n",
    "                        processed_lines += 1\n",
    "                except Exception as e:\n",
    "                    error_lines += 1\n",
    "                    continue\n",
    "\n",
    "print(f\"Файды: {total_files}\")\n",
    "print(f\"Строки: {total_lines}\")\n",
    "print(f\"Обработаны: {processed_lines}\")\n",
    "print(f\"Ошибки: {error_lines}\")"
   ]
  },
  {
   "cell_type": "code",
   "execution_count": null,
   "id": "76115aeb-be18-414d-94b5-c7dc21faf93f",
   "metadata": {},
   "outputs": [],
   "source": []
  }
 ],
 "metadata": {
  "kernelspec": {
   "display_name": "Python 3 (ipykernel)",
   "language": "python",
   "name": "python3"
  },
  "language_info": {
   "codemirror_mode": {
    "name": "ipython",
    "version": 3
   },
   "file_extension": ".py",
   "mimetype": "text/x-python",
   "name": "python",
   "nbconvert_exporter": "python",
   "pygments_lexer": "ipython3",
   "version": "3.12.6"
  }
 },
 "nbformat": 4,
 "nbformat_minor": 5
}
